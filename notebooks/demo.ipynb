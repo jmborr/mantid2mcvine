{
 "cells": [
  {
   "cell_type": "markdown",
   "metadata": {},
   "source": [
    "# Mantid->MCViNE conversion\n",
    "## Create working directory for the conversion and move over there"
   ]
  },
  {
   "cell_type": "code",
   "execution_count": null,
   "metadata": {
    "collapsed": true
   },
   "outputs": [],
   "source": [
    "# modify this\n",
    "workdir = \"/SNS/users/lj7/simulations/mantid2mcvine_instrument_conversion/demo\"\n",
    "!mkdir -p {workdir}\n",
    "%cd {workdir}"
   ]
  },
  {
   "cell_type": "markdown",
   "metadata": {},
   "source": [
    "## Add the package into the python path"
   ]
  },
  {
   "cell_type": "code",
   "execution_count": null,
   "metadata": {
    "collapsed": true
   },
   "outputs": [],
   "source": [
    "import sys\n",
    "sys.path.insert(0, '/SNS/users/lj7/simulations/mantid2mcvine_instrument_conversion')"
   ]
  },
  {
   "cell_type": "code",
   "execution_count": null,
   "metadata": {
    "collapsed": true
   },
   "outputs": [],
   "source": [
    "import os\n",
    "import mantid2mcvine as m2m\n",
    "reload(m2m)"
   ]
  },
  {
   "cell_type": "markdown",
   "metadata": {},
   "source": [
    "## Instrument information"
   ]
  },
  {
   "cell_type": "code",
   "execution_count": null,
   "metadata": {
    "collapsed": true
   },
   "outputs": [],
   "source": [
    "# modify these\n",
    "instrument_name = 'MCVINEDEMO'\n",
    "beamline = 101\n",
    "mantid_idf = os.path.abspath('../notebooks/MCVINEDEMO_Definition.xml')\n",
    "mcvine_idf = os.path.abspath('mcvine.xml')\n",
    "template_nxs = os.path.abspath('template.nxs')\n",
    "\n",
    "detsys_shape = m2m.shapes.hollowCylinder(in_radius=2., out_radius=3., height=3.) # meters\n",
    "nbanks = 1\n",
    "ntubesperpack = 8\n",
    "npixelspertube = 128\n",
    "nmonitors = 1\n",
    "    \n",
    "tube_info = m2m.TubeInfo(\n",
    "    pressure = 10.*m2m.units.pressure.atm,\n",
    "    radius = .5 * m2m.units.length.inch,\n",
    "    gap = 0.08 * m2m.units.length.inch,\n",
    ")\n",
    "\n",
    "tofbinsize = 0.1 # mus"
   ]
  },
  {
   "cell_type": "markdown",
   "metadata": {},
   "source": [
    "## Create instrument model\n",
    "This model will be used for the converting Mantid IDF to MCViNE IDF below,\n",
    "and later for converting MCViNE-simulated neutrons to nexus file understood \n",
    "by Mantid."
   ]
  },
  {
   "cell_type": "code",
   "execution_count": null,
   "metadata": {
    "collapsed": true
   },
   "outputs": [],
   "source": [
    "im = m2m.InstrumentModel(\n",
    "    instrument_name, beamline, mantid_idf, mcvine_idf, template_nxs,\n",
    "    detsys_shape, tube_info,\n",
    "    nbanks = nbanks,\n",
    "    ntubesperpack = ntubesperpack,\n",
    "    npixelspertube = npixelspertube,\n",
    "    nmonitors = nmonitors,\n",
    "    tofbinsize = tofbinsize,\n",
    "    )"
   ]
  },
  {
   "cell_type": "markdown",
   "metadata": {},
   "source": [
    "## Run IDF conversion\n",
    "The IDF conversion only needs to be done once!!!"
   ]
  },
  {
   "cell_type": "code",
   "execution_count": null,
   "metadata": {
    "collapsed": true
   },
   "outputs": [],
   "source": [
    "im.convert()\n",
    "im.mantid_install() # install mantid IDF to ~/.mantid"
   ]
  },
  {
   "cell_type": "markdown",
   "metadata": {},
   "source": [
    "## Save instrument model for future use"
   ]
  },
  {
   "cell_type": "code",
   "execution_count": null,
   "metadata": {
    "collapsed": true
   },
   "outputs": [],
   "source": [
    "import pickle as pkl\n",
    "# save\n",
    "pkl.dump(im, open('instrument_model.pkl', 'w'))\n",
    "\n",
    "# load\n",
    "# im2 = pkl.load(open('instrument_model.pkl'))"
   ]
  },
  {
   "cell_type": "markdown",
   "metadata": {},
   "source": [
    "# Test generated files by running a powder simulation"
   ]
  },
  {
   "cell_type": "code",
   "execution_count": null,
   "metadata": {
    "collapsed": true
   },
   "outputs": [],
   "source": [
    "import numpy as np, h5py\n",
    "import histogram as H, histogram.hdf as hh\n",
    "from matplotlib import pyplot as plt\n",
    "import mcvine\n",
    "%matplotlib inline"
   ]
  },
  {
   "cell_type": "code",
   "execution_count": null,
   "metadata": {
    "collapsed": true
   },
   "outputs": [],
   "source": [
    "#!mcvine"
   ]
  },
  {
   "cell_type": "code",
   "execution_count": null,
   "metadata": {
    "collapsed": true
   },
   "outputs": [],
   "source": [
    "pwd"
   ]
  },
  {
   "cell_type": "code",
   "execution_count": null,
   "metadata": {
    "collapsed": true
   },
   "outputs": [],
   "source": [
    "powder_workdir = \"/SNS/users/lj7/simulations/mantid2mcvine_instrument_conversion/demo/powder-cones\"\n",
    "!mkdir -p {powder_workdir}\n",
    "%cd {powder_workdir}"
   ]
  },
  {
   "cell_type": "code",
   "execution_count": null,
   "metadata": {
    "collapsed": true
   },
   "outputs": [],
   "source": [
    "# rm -rf mysim/"
   ]
  },
  {
   "cell_type": "code",
   "execution_count": null,
   "metadata": {
    "collapsed": true
   },
   "outputs": [],
   "source": [
    "!mcvine workflow powder --instrument=ARCS --sample=V --workdir=mysim"
   ]
  },
  {
   "cell_type": "markdown",
   "metadata": {},
   "source": [
    "## Sim Beam"
   ]
  },
  {
   "cell_type": "code",
   "execution_count": null,
   "metadata": {
    "collapsed": true
   },
   "outputs": [],
   "source": [
    "cd {powder_workdir}/mysim/beam"
   ]
  },
  {
   "cell_type": "code",
   "execution_count": null,
   "metadata": {
    "collapsed": true
   },
   "outputs": [],
   "source": [
    "%%file run-beam.sh\n",
    "#!/usr/bin/env bash\n",
    "\n",
    "mcvine instruments arcs beam -E=70 --ncount=1e7 --nodes=20"
   ]
  },
  {
   "cell_type": "code",
   "execution_count": null,
   "metadata": {
    "collapsed": true
   },
   "outputs": [],
   "source": [
    "%%time\n",
    "%%script bash --out beam_out --err beam_err\n",
    "./run-beam.sh"
   ]
  },
  {
   "cell_type": "code",
   "execution_count": null,
   "metadata": {
    "collapsed": true,
    "scrolled": true
   },
   "outputs": [],
   "source": [
    "# print beam_out\n",
    "# print beam_err"
   ]
  },
  {
   "cell_type": "code",
   "execution_count": null,
   "metadata": {
    "collapsed": true
   },
   "outputs": [],
   "source": [
    "# plot I(E) spectrum\n",
    "ie = hh.load(\"out/ienergy.h5\")\n",
    "plt.plot(ie.energy, ie.I)"
   ]
  },
  {
   "cell_type": "markdown",
   "metadata": {
    "collapsed": true
   },
   "source": [
    "## Scattering sim"
   ]
  },
  {
   "cell_type": "code",
   "execution_count": null,
   "metadata": {
    "collapsed": true
   },
   "outputs": [],
   "source": [
    "cd {powder_workdir}/mysim"
   ]
  },
  {
   "cell_type": "markdown",
   "metadata": {},
   "source": [
    "### Change sample kernel"
   ]
  },
  {
   "cell_type": "code",
   "execution_count": null,
   "metadata": {
    "collapsed": true
   },
   "outputs": [],
   "source": [
    "%%file sampleassembly/V-scatterer.xml\n",
    "<?xml version=\"1.0\"?>\n",
    "\n",
    "<!DOCTYPE scatterer>\n",
    "\n",
    "<!-- mcweights: monte-carlo weights for 3 possible processes:\n",
    "     absorption, scattering, transmission -->\n",
    "<homogeneous_scatterer mcweights=\"0, 1, 0.1\">\n",
    "\n",
    "  <KernelContainer average=\"yes\">\n",
    "\n",
    "    <Phonon_IncoherentElastic_Kernel dw_core='0.00701434948808*angstrom**2'>\n",
    "    </Phonon_IncoherentElastic_Kernel>\n",
    "\n",
    "    <ConstantQEKernel momentum-transfer=\"4/angstrom\" energy-transfer=\"10*meV\"/>\n",
    "\n",
    "    <ConstantQEKernel momentum-transfer=\"7/angstrom\" energy-transfer=\"20*meV\"/>\n",
    "\n",
    "    <ConstantQEKernel momentum-transfer=\"10/angstrom\" energy-transfer=\"10*meV\"/>\n",
    "\n",
    "    </KernelContainer>\n",
    "</homogeneous_scatterer>"
   ]
  },
  {
   "cell_type": "markdown",
   "metadata": {},
   "source": [
    "### Scattering script"
   ]
  },
  {
   "cell_type": "code",
   "execution_count": null,
   "metadata": {
    "collapsed": true
   },
   "outputs": [],
   "source": [
    "%%file scatter\n",
    "#!/usr/bin/env bash\n",
    "\n",
    "LAUNCHER=`python -c \"from mcni.pyre_support.MpiApplication import mpi_launcher_choice as l; print l\"`\n",
    "rm -rf out && ./sss --ncount=3e6 --multiple-scattering=off --$LAUNCHER.nodes=20 --buffer_size=50000"
   ]
  },
  {
   "cell_type": "code",
   "execution_count": null,
   "metadata": {
    "collapsed": true
   },
   "outputs": [],
   "source": [
    "!chmod +x scatter sss reduce2iqe create-nxs"
   ]
  },
  {
   "cell_type": "markdown",
   "metadata": {},
   "source": [
    "### Simulate"
   ]
  },
  {
   "cell_type": "code",
   "execution_count": null,
   "metadata": {
    "collapsed": true
   },
   "outputs": [],
   "source": [
    "!make clean"
   ]
  },
  {
   "cell_type": "code",
   "execution_count": null,
   "metadata": {
    "collapsed": true
   },
   "outputs": [],
   "source": [
    "%%time\n",
    "%%script bash --out scatter_out --err scatter_err\n",
    "./scatter"
   ]
  },
  {
   "cell_type": "code",
   "execution_count": null,
   "metadata": {
    "collapsed": true
   },
   "outputs": [],
   "source": [
    "# print scatter_err"
   ]
  },
  {
   "cell_type": "code",
   "execution_count": null,
   "metadata": {
    "collapsed": true
   },
   "outputs": [],
   "source": [
    "ls -lt out/scattered-neutrons"
   ]
  },
  {
   "cell_type": "markdown",
   "metadata": {},
   "source": [
    "## Create NeXus file"
   ]
  },
  {
   "cell_type": "code",
   "execution_count": null,
   "metadata": {
    "collapsed": true
   },
   "outputs": [],
   "source": [
    "%cd {powder_workdir}/mysim"
   ]
  },
  {
   "cell_type": "code",
   "execution_count": null,
   "metadata": {
    "collapsed": true
   },
   "outputs": [],
   "source": [
    "%%time\n",
    "events = im.neutrons2events('./out/scattered-neutrons', nodes=20)"
   ]
  },
  {
   "cell_type": "code",
   "execution_count": null,
   "metadata": {
    "collapsed": true
   },
   "outputs": [],
   "source": [
    "ls -lt n2e/out/events.dat"
   ]
  },
  {
   "cell_type": "code",
   "execution_count": null,
   "metadata": {
    "collapsed": true
   },
   "outputs": [],
   "source": [
    "%%time\n",
    "simnxs = im.events2nxs(events, 'sim.nxs')"
   ]
  },
  {
   "cell_type": "markdown",
   "metadata": {},
   "source": [
    "## Reduction"
   ]
  },
  {
   "cell_type": "code",
   "execution_count": null,
   "metadata": {
    "collapsed": true
   },
   "outputs": [],
   "source": [
    "from mantid import simpleapi as msa\n",
    "reload(msa)"
   ]
  },
  {
   "cell_type": "code",
   "execution_count": null,
   "metadata": {
    "collapsed": true
   },
   "outputs": [],
   "source": [
    "cd {powder_workdir}/mysim"
   ]
  },
  {
   "cell_type": "code",
   "execution_count": null,
   "metadata": {
    "collapsed": true
   },
   "outputs": [],
   "source": [
    "ws = msa.Load('sim.nxs')"
   ]
  },
  {
   "cell_type": "code",
   "execution_count": null,
   "metadata": {
    "collapsed": true
   },
   "outputs": [],
   "source": [
    "out = msa.DgsReduction(\n",
    "    SampleInputWorkspace=ws, \n",
    "    IncidentEnergyGuess=70., UseIncidentEnergyGuess=1,\n",
    "    TimeZeroGuess=20)"
   ]
  },
  {
   "cell_type": "code",
   "execution_count": null,
   "metadata": {
    "collapsed": true
   },
   "outputs": [],
   "source": [
    "msa.SofQW3(\n",
    "    InputWorkspace='out',\n",
    "    OutputWorkspace='iqw',\n",
    "    QAxisBinning=\"0,0.1,12\",\n",
    "    EMode='Direct',\n",
    "    )"
   ]
  },
  {
   "cell_type": "code",
   "execution_count": null,
   "metadata": {
    "collapsed": true
   },
   "outputs": [],
   "source": [
    "msa.SaveNexus(\n",
    "    InputWorkspace='iqw',\n",
    "    Filename = 'iqe.nxs',\n",
    "    Title = 'iqw',\n",
    "    )"
   ]
  },
  {
   "cell_type": "code",
   "execution_count": null,
   "metadata": {
    "collapsed": true
   },
   "outputs": [],
   "source": [
    "!mcvine mantid extract_iqe iqe.nxs iqe.h5"
   ]
  },
  {
   "cell_type": "code",
   "execution_count": null,
   "metadata": {
    "collapsed": true
   },
   "outputs": [],
   "source": [
    "iqe = hh.load(\"iqe.h5\").transpose()\n",
    "H.plot(iqe, min=0, max=.003)"
   ]
  },
  {
   "cell_type": "code",
   "execution_count": null,
   "metadata": {
    "collapsed": true
   },
   "outputs": [],
   "source": []
  }
 ],
 "metadata": {
  "kernelspec": {
   "display_name": "dev-mcvine",
   "language": "python",
   "name": "dev-mcvine"
  },
  "language_info": {
   "codemirror_mode": {
    "name": "ipython",
    "version": 2
   },
   "file_extension": ".py",
   "mimetype": "text/x-python",
   "name": "python",
   "nbconvert_exporter": "python",
   "pygments_lexer": "ipython2",
   "version": "2.7.12"
  }
 },
 "nbformat": 4,
 "nbformat_minor": 2
}
