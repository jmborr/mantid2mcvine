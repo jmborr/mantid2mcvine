{
 "cells": [
  {
   "cell_type": "code",
   "execution_count": 1,
   "metadata": {},
   "outputs": [
    {
     "name": "stdout",
     "output_type": "stream",
     "text": [
      "/SNS/users/lj7/simulations/mantid2mcvine_instrument_conversion/explore\n"
     ]
    }
   ],
   "source": [
    "workdir = \"/SNS/users/lj7/simulations/mantid2mcvine_instrument_conversion/explore\"\n",
    "!mkdir -p {workdir}\n",
    "%cd {workdir}"
   ]
  },
  {
   "cell_type": "code",
   "execution_count": 2,
   "metadata": {
    "collapsed": true
   },
   "outputs": [],
   "source": [
    "import sys, os\n",
    "import numpy as np, h5py\n",
    "import histogram as H, histogram.hdf as hh\n",
    "from matplotlib import pyplot as plt\n",
    "%matplotlib inline"
   ]
  },
  {
   "cell_type": "code",
   "execution_count": 3,
   "metadata": {},
   "outputs": [
    {
     "data": {
      "text/plain": [
       "<module 'mcvine' from '/home/lj7/dv/mcvine/export/lib/python2.7/site-packages/mcvine/__init__.pyc'>"
      ]
     },
     "execution_count": 3,
     "metadata": {},
     "output_type": "execute_result"
    }
   ],
   "source": [
    "import mcvine\n",
    "mcvine"
   ]
  },
  {
   "cell_type": "code",
   "execution_count": 4,
   "metadata": {
    "collapsed": true
   },
   "outputs": [],
   "source": [
    "#!mcvine"
   ]
  },
  {
   "cell_type": "markdown",
   "metadata": {},
   "source": [
    "# Mantid IDF XML"
   ]
  },
  {
   "cell_type": "code",
   "execution_count": 14,
   "metadata": {
    "collapsed": true
   },
   "outputs": [],
   "source": [
    "# cat /SNS/users/lj7/simulations/CHESS/instrument_xml/CHESS_geo_8packs_v3.xml"
   ]
  },
  {
   "cell_type": "code",
   "execution_count": 15,
   "metadata": {},
   "outputs": [
    {
     "name": "stdout",
     "output_type": "stream",
     "text": [
      "Overwriting mantid.xml\n"
     ]
    }
   ],
   "source": [
    "%%file mantid.xml\n",
    "<?xml version='1.0' encoding='ASCII'?>\n",
    "<instrument \n",
    "    xmlns:xsi=\"http://www.w3.org/2001/XMLSchema-instance\" \n",
    "    xmlns=\"http://www.mantidproject.org/IDF/1.0\" \n",
    "    last-modified=\"2016-10-07 16:44:43.011103\" \n",
    "    name=\"MCVINETEST\" \n",
    "    valid-from=\"2017-05-15 00:00:00\" \n",
    "    valid-to=\"2020-07-13 23:59:59\" \n",
    "    xsi:schemaLocation=\"http://www.mantidproject.org/IDF/1.0 http://schema.mantidproject.org/IDF/1.0/IDFSchema.xsd\">\n",
    "\n",
    "<defaults>\n",
    "  <length unit=\"metre\"/>\n",
    "  <angle unit=\"degree\"/>\n",
    "  <reference-frame>\n",
    "    <along-beam axis=\"z\"/>\n",
    "    <pointing-up axis=\"y\"/>\n",
    "    <handedness val=\"right\"/>\n",
    "  </reference-frame>\n",
    "</defaults>\n",
    "\n",
    "!--SOURCE and SAMPLE positions-->\n",
    "<component type=\"moderator\">\n",
    "  <location z=\"-10.\"/>\n",
    "</component>\n",
    "<type is=\"Source\" name=\"moderator\"/>\n",
    "<component type=\"sample-position\">\n",
    "  <location x=\"0.0\" y=\"0.0\" z=\"0.0\"/>\n",
    "</component>\n",
    "<type is=\"SamplePos\" name=\"sample-position\"/>\n",
    "\n",
    "<!--MONITORS-->\n",
    "<component idlist=\"monitors\" type=\"monitors\">\n",
    "  <location/>\n",
    "</component>\n",
    "<type name=\"monitors\">\n",
    "  <component type=\"monitor\">\n",
    "    <location name=\"monitor1\" z=\"-5\"/>\n",
    "  </component>\n",
    "</type>\n",
    "\n",
    "<!--DETECTOR bank IDs-->\n",
    "<component idlist=\"detectors\" type=\"detectors\">\n",
    "  <location/>\n",
    "</component>\n",
    "<type name=\"detectors\">\n",
    "  <component type=\"bank1\">\n",
    "    <location/>\n",
    "  </component>\n",
    "</type>\n",
    "\n",
    "<!--DETECTOR bank positions and orientations-->\n",
    "<type name=\"bank1\">\n",
    "  <component type=\"eightpack\">\n",
    "    <location x=\"0.087176\" y=\"0.000000\" z=\"2.494003\">\n",
    "      <rot axis-x=\"0\" axis-y=\"1\" axis-z=\"0\" val=\"2.000\">\n",
    "      </rot>\n",
    "    </location>\n",
    "  </component>\n",
    "</type>\n",
    "\n",
    "!--STANDARD 8-PACK-->\n",
    "<type name=\"eightpack\">\n",
    "  <properties/>\n",
    "  <component type=\"tube\">\n",
    "    <location name=\"tube1\" x=\"-0.064827\" y=\"0.000000\" z=\"-0.019898\"/>\n",
    "    <location name=\"tube2\" x=\"-0.043886\" y=\"0.000000\" z=\"0.018667\"/>\n",
    "    <location name=\"tube3\" x=\"-0.021611\" y=\"0.000000\" z=\"-0.019144\"/>\n",
    "    <location name=\"tube4\" x=\"0.000000\" y=\"0.000000\" z=\"0.019050\"/>\n",
    "    <location name=\"tube5\" x=\"0.021611\" y=\"0.000000\" z=\"-0.019144\"/>\n",
    "    <location name=\"tube6\" x=\"0.043886\" y=\"0.000000\" z=\"0.018667\"/>\n",
    "    <location name=\"tube7\" x=\"0.064827\" y=\"0.000000\" z=\"-0.019898\"/>\n",
    "    <location name=\"tube8\" x=\"0.087758\" y=\"0.000000\" z=\"0.017518\"/>\n",
    "  </component>\n",
    "</type>\n",
    "\n",
    "!--STANDARD 1.5m 128 PIXEL TUBE-->\n",
    "<type name=\"tube\" outline=\"yes\">\n",
    "  <properties/>\n",
    "  <component type=\"pixel\">\n",
    "    <location name=\"pixel1\" y=\"-0.744141\"/>\n",
    "    <location name=\"pixel2\" y=\"-0.732422\"/>\n",
    "    <location name=\"pixel3\" y=\"-0.720703\"/>\n",
    "    <location name=\"pixel4\" y=\"-0.708984\"/>\n",
    "    <location name=\"pixel5\" y=\"-0.697266\"/>\n",
    "    <location name=\"pixel6\" y=\"-0.685547\"/>\n",
    "    <location name=\"pixel7\" y=\"-0.673828\"/>\n",
    "    <location name=\"pixel8\" y=\"-0.662109\"/>\n",
    "    <location name=\"pixel9\" y=\"-0.650391\"/>\n",
    "    <location name=\"pixel10\" y=\"-0.638672\"/>\n",
    "    <location name=\"pixel11\" y=\"-0.626953\"/>\n",
    "    <location name=\"pixel12\" y=\"-0.615234\"/>\n",
    "    <location name=\"pixel13\" y=\"-0.603516\"/>\n",
    "    <location name=\"pixel14\" y=\"-0.591797\"/>\n",
    "    <location name=\"pixel15\" y=\"-0.580078\"/>\n",
    "    <location name=\"pixel16\" y=\"-0.568359\"/>\n",
    "    <location name=\"pixel17\" y=\"-0.556641\"/>\n",
    "    <location name=\"pixel18\" y=\"-0.544922\"/>\n",
    "    <location name=\"pixel19\" y=\"-0.533203\"/>\n",
    "    <location name=\"pixel20\" y=\"-0.521484\"/>\n",
    "    <location name=\"pixel21\" y=\"-0.509766\"/>\n",
    "    <location name=\"pixel22\" y=\"-0.498047\"/>\n",
    "    <location name=\"pixel23\" y=\"-0.486328\"/>\n",
    "    <location name=\"pixel24\" y=\"-0.474609\"/>\n",
    "    <location name=\"pixel25\" y=\"-0.462891\"/>\n",
    "    <location name=\"pixel26\" y=\"-0.451172\"/>\n",
    "    <location name=\"pixel27\" y=\"-0.439453\"/>\n",
    "    <location name=\"pixel28\" y=\"-0.427734\"/>\n",
    "    <location name=\"pixel29\" y=\"-0.416016\"/>\n",
    "    <location name=\"pixel30\" y=\"-0.404297\"/>\n",
    "    <location name=\"pixel31\" y=\"-0.392578\"/>\n",
    "    <location name=\"pixel32\" y=\"-0.380859\"/>\n",
    "    <location name=\"pixel33\" y=\"-0.369141\"/>\n",
    "    <location name=\"pixel34\" y=\"-0.357422\"/>\n",
    "    <location name=\"pixel35\" y=\"-0.345703\"/>\n",
    "    <location name=\"pixel36\" y=\"-0.333984\"/>\n",
    "    <location name=\"pixel37\" y=\"-0.322266\"/>\n",
    "    <location name=\"pixel38\" y=\"-0.310547\"/>\n",
    "    <location name=\"pixel39\" y=\"-0.298828\"/>\n",
    "    <location name=\"pixel40\" y=\"-0.287109\"/>\n",
    "    <location name=\"pixel41\" y=\"-0.275391\"/>\n",
    "    <location name=\"pixel42\" y=\"-0.263672\"/>\n",
    "    <location name=\"pixel43\" y=\"-0.251953\"/>\n",
    "    <location name=\"pixel44\" y=\"-0.240234\"/>\n",
    "    <location name=\"pixel45\" y=\"-0.228516\"/>\n",
    "    <location name=\"pixel46\" y=\"-0.216797\"/>\n",
    "    <location name=\"pixel47\" y=\"-0.205078\"/>\n",
    "    <location name=\"pixel48\" y=\"-0.193359\"/>\n",
    "    <location name=\"pixel49\" y=\"-0.181641\"/>\n",
    "    <location name=\"pixel50\" y=\"-0.169922\"/>\n",
    "    <location name=\"pixel51\" y=\"-0.158203\"/>\n",
    "    <location name=\"pixel52\" y=\"-0.146484\"/>\n",
    "    <location name=\"pixel53\" y=\"-0.134766\"/>\n",
    "    <location name=\"pixel54\" y=\"-0.123047\"/>\n",
    "    <location name=\"pixel55\" y=\"-0.111328\"/>\n",
    "    <location name=\"pixel56\" y=\"-0.099609\"/>\n",
    "    <location name=\"pixel57\" y=\"-0.087891\"/>\n",
    "    <location name=\"pixel58\" y=\"-0.076172\"/>\n",
    "    <location name=\"pixel59\" y=\"-0.064453\"/>\n",
    "    <location name=\"pixel60\" y=\"-0.052734\"/>\n",
    "    <location name=\"pixel61\" y=\"-0.041016\"/>\n",
    "    <location name=\"pixel62\" y=\"-0.029297\"/>\n",
    "    <location name=\"pixel63\" y=\"-0.017578\"/>\n",
    "    <location name=\"pixel64\" y=\"-0.005859\"/>\n",
    "    <location name=\"pixel65\" y=\"0.005859\"/>\n",
    "    <location name=\"pixel66\" y=\"0.017578\"/>\n",
    "    <location name=\"pixel67\" y=\"0.029297\"/>\n",
    "    <location name=\"pixel68\" y=\"0.041016\"/>\n",
    "    <location name=\"pixel69\" y=\"0.052734\"/>\n",
    "    <location name=\"pixel70\" y=\"0.064453\"/>\n",
    "    <location name=\"pixel71\" y=\"0.076172\"/>\n",
    "    <location name=\"pixel72\" y=\"0.087891\"/>\n",
    "    <location name=\"pixel73\" y=\"0.099609\"/>\n",
    "    <location name=\"pixel74\" y=\"0.111328\"/>\n",
    "    <location name=\"pixel75\" y=\"0.123047\"/>\n",
    "    <location name=\"pixel76\" y=\"0.134766\"/>\n",
    "    <location name=\"pixel77\" y=\"0.146484\"/>\n",
    "    <location name=\"pixel78\" y=\"0.158203\"/>\n",
    "    <location name=\"pixel79\" y=\"0.169922\"/>\n",
    "    <location name=\"pixel80\" y=\"0.181641\"/>\n",
    "    <location name=\"pixel81\" y=\"0.193359\"/>\n",
    "    <location name=\"pixel82\" y=\"0.205078\"/>\n",
    "    <location name=\"pixel83\" y=\"0.216797\"/>\n",
    "    <location name=\"pixel84\" y=\"0.228516\"/>\n",
    "    <location name=\"pixel85\" y=\"0.240234\"/>\n",
    "    <location name=\"pixel86\" y=\"0.251953\"/>\n",
    "    <location name=\"pixel87\" y=\"0.263672\"/>\n",
    "    <location name=\"pixel88\" y=\"0.275391\"/>\n",
    "    <location name=\"pixel89\" y=\"0.287109\"/>\n",
    "    <location name=\"pixel90\" y=\"0.298828\"/>\n",
    "    <location name=\"pixel91\" y=\"0.310547\"/>\n",
    "    <location name=\"pixel92\" y=\"0.322266\"/>\n",
    "    <location name=\"pixel93\" y=\"0.333984\"/>\n",
    "    <location name=\"pixel94\" y=\"0.345703\"/>\n",
    "    <location name=\"pixel95\" y=\"0.357422\"/>\n",
    "    <location name=\"pixel96\" y=\"0.369141\"/>\n",
    "    <location name=\"pixel97\" y=\"0.380859\"/>\n",
    "    <location name=\"pixel98\" y=\"0.392578\"/>\n",
    "    <location name=\"pixel99\" y=\"0.404297\"/>\n",
    "    <location name=\"pixel100\" y=\"0.416016\"/>\n",
    "    <location name=\"pixel101\" y=\"0.427734\"/>\n",
    "    <location name=\"pixel102\" y=\"0.439453\"/>\n",
    "    <location name=\"pixel103\" y=\"0.451172\"/>\n",
    "    <location name=\"pixel104\" y=\"0.462891\"/>\n",
    "    <location name=\"pixel105\" y=\"0.474609\"/>\n",
    "    <location name=\"pixel106\" y=\"0.486328\"/>\n",
    "    <location name=\"pixel107\" y=\"0.498047\"/>\n",
    "    <location name=\"pixel108\" y=\"0.509766\"/>\n",
    "    <location name=\"pixel109\" y=\"0.521484\"/>\n",
    "    <location name=\"pixel110\" y=\"0.533203\"/>\n",
    "    <location name=\"pixel111\" y=\"0.544922\"/>\n",
    "    <location name=\"pixel112\" y=\"0.556641\"/>\n",
    "    <location name=\"pixel113\" y=\"0.568359\"/>\n",
    "    <location name=\"pixel114\" y=\"0.580078\"/>\n",
    "    <location name=\"pixel115\" y=\"0.591797\"/>\n",
    "    <location name=\"pixel116\" y=\"0.603516\"/>\n",
    "    <location name=\"pixel117\" y=\"0.615234\"/>\n",
    "    <location name=\"pixel118\" y=\"0.626953\"/>\n",
    "    <location name=\"pixel119\" y=\"0.638672\"/>\n",
    "    <location name=\"pixel120\" y=\"0.650391\"/>\n",
    "    <location name=\"pixel121\" y=\"0.662109\"/>\n",
    "    <location name=\"pixel122\" y=\"0.673828\"/>\n",
    "    <location name=\"pixel123\" y=\"0.685547\"/>\n",
    "    <location name=\"pixel124\" y=\"0.697266\"/>\n",
    "    <location name=\"pixel125\" y=\"0.708984\"/>\n",
    "    <location name=\"pixel126\" y=\"0.720703\"/>\n",
    "    <location name=\"pixel127\" y=\"0.732422\"/>\n",
    "    <location name=\"pixel128\" y=\"0.744141\"/>\n",
    "  </component>\n",
    "</type>\n",
    "\n",
    "<!--PIXEL FOR STANDARD 1.5m 128 PIXEL TUBE-->\n",
    "<type is=\"detector\" name=\"pixel\">\n",
    "  <cylinder id=\"cyl-approx\">\n",
    "    <centre-of-bottom-base p=\"0.0\" r=\"0.0\" t=\"0.0\"/>\n",
    "    <axis x=\"0\" y=\"1\" z=\"0\"/>\n",
    "    <radius val=\"0.012700\"/>\n",
    "    <height val=\"0.011719\"/>\n",
    "  </cylinder>\n",
    "  <algebra val=\"cyl-approx\"/>\n",
    "</type>\n",
    "\n",
    "<!--MONITOR shape-->\n",
    "<type is=\"monitor\" name=\"monitor\">\n",
    "  <cylinder id=\"cyl-approx\">\n",
    "    <centre-of-bottom-base p=\"0.0\" r=\"0.0\" t=\"0.0\"/>\n",
    "    <axis x=\"0\" y=\"1\" z=\"0\"/>\n",
    "    <radius val=\"0.01\"/>\n",
    "    <height val=\"0.03\"/>\n",
    "  </cylinder>\n",
    "  <algebra val=\"cyl-approx\"/>\n",
    "</type>\n",
    "\n",
    "<!--DETECTOR IDs (128 * 8 * # of banks)-->\n",
    "<idlist idname=\"detectors\">\n",
    "  <id end=\"1023\" start=\"0\"/>\n",
    "</idlist>\n",
    "\n",
    "<!--MONITOR IDs-->\n",
    "<idlist idname=\"monitors\">\n",
    "  <id val=\"-1\"/>\n",
    "</idlist>\n",
    "\n",
    "<!--DETECTOR parameters-->\n",
    "<component-link name=\"detectors\">\n",
    "  <parameter name=\"tube_pressure\">\n",
    "    <value units=\"atm\" val=\"10.0\"/>\n",
    "  </parameter>\n",
    "  <parameter name=\"tube_thickness\">\n",
    "    <value units=\"metre\" val=\"0.001016\"/>\n",
    "  </parameter>\n",
    "  <parameter name=\"tube_temperature\">\n",
    "    <value units=\"K\" val=\"292.0\"/>\n",
    "  </parameter>\n",
    "</component-link>\n",
    "</instrument>\n"
   ]
  },
  {
   "cell_type": "code",
   "execution_count": 5,
   "metadata": {
    "collapsed": true
   },
   "outputs": [],
   "source": [
    "mantid_xml = 'mantid.xml'"
   ]
  },
  {
   "cell_type": "markdown",
   "metadata": {},
   "source": [
    "## Setup mantid"
   ]
  },
  {
   "cell_type": "code",
   "execution_count": 4,
   "metadata": {
    "collapsed": true
   },
   "outputs": [],
   "source": [
    "import xml.etree.ElementTree as ET\n",
    "\n",
    "tree = ET.parse(mantid_xml)\n",
    "root = tree.getroot()\n",
    "instrument_name = root.attrib['name']\n",
    "\n",
    "tree = ET.parse(os.path.expanduser('~/.mantid/instrument/Facilities.xml'))\n",
    "root = tree.getroot()\n",
    "sns = root.find(\"facility[@name='SNS']\")\n",
    "arcs = sns.find(\"instrument[@name='ARCS']\")\n",
    "\n",
    "t = arcs.copy()\n",
    "t.attrib['name'] = instrument_name\n",
    "t.attrib['beamline'] = '99'\n",
    "sns.append(t)\n",
    "\n",
    "tree.write(\"new_facilities.xml\")\n",
    "\n",
    "!cp /home/lj7/.mantid/instrument/Facilities.xml /home/lj7/.mantid/instrument/Facilities.xml.saved07042017\n",
    "!cp new_facilities.xml /home/lj7/.mantid/instrument/Facilities.xml\n",
    "\n",
    "cp /SNS/users/lj7/simulations/mantid2mcvine_instrument_conversion/explore/MCVINETEST_Definition.xml \\\n",
    "    /home/lj7/.mantid/instrument/"
   ]
  },
  {
   "cell_type": "markdown",
   "metadata": {},
   "source": [
    "# MCViNE XML"
   ]
  },
  {
   "cell_type": "code",
   "execution_count": 39,
   "metadata": {},
   "outputs": [
    {
     "name": "stdout",
     "output_type": "stream",
     "text": [
      "Position: (87.176, 0.0, 2494.003), Rotation: inputs=[([0.0, 1.0, 0.0], 2.0)], m=[[ 0.99939083  0.         -0.0348995 ]\n",
      " [-0.          1.          0.        ]\n",
      " [ 0.0348995  -0.          0.99939083]]\n",
      "write instrument to mcvine.xml\n"
     ]
    }
   ],
   "source": [
    "import BootstrapBase\n",
    "reload(BootstrapBase)\n",
    "import Bootstrap_mantid_idf\n",
    "reload(Bootstrap_mantid_idf)\n",
    "from Bootstrap_mantid_idf import InstrumentFactory as IF, units\n",
    "factory = IF()\n",
    "from instrument.geometry import shapes\n",
    "class tube_info:\n",
    "    pressure = 10.*units.pressure.atm\n",
    "    radius = .5 * units.length.inch\n",
    "    gap = 0.08 * units.length.inch\n",
    "detsys_shape = shapes.hollowCylinder(in_radius=2., out_radius=3., height=3.)\n",
    "instrument, geometer = factory.construct(\n",
    "    name='mantid', idfpath=\"mantid.xml\", \n",
    "    ds_shape = detsys_shape, tube_info=tube_info, \n",
    "    xmloutput='mcvine.xml')"
   ]
  },
  {
   "cell_type": "markdown",
   "metadata": {},
   "source": [
    "# NXS"
   ]
  },
  {
   "cell_type": "code",
   "execution_count": 16,
   "metadata": {},
   "outputs": [
    {
     "name": "stdout",
     "output_type": "stream",
     "text": [
      "1024\n"
     ]
    }
   ],
   "source": [
    "nbanks = 1\n",
    "ntubesperpack = 8\n",
    "npixelspertube = 128\n",
    "ntotpixels = nbanks*ntubesperpack*npixelspertube\n",
    "print ntotpixels"
   ]
  },
  {
   "cell_type": "code",
   "execution_count": 17,
   "metadata": {},
   "outputs": [
    {
     "name": "stdout",
     "output_type": "stream",
     "text": [
      "-rw-r--r-- 1 lj7 users 2686603 Jul  2 21:58 start.nxs\r\n"
     ]
    }
   ],
   "source": [
    "ls -l start.nxs"
   ]
  },
  {
   "cell_type": "code",
   "execution_count": 22,
   "metadata": {
    "collapsed": true
   },
   "outputs": [],
   "source": [
    "!cp start.nxs step1.nxs"
   ]
  },
  {
   "cell_type": "code",
   "execution_count": 23,
   "metadata": {
    "collapsed": true
   },
   "outputs": [],
   "source": [
    "with h5py.File('step1.nxs') as f:\n",
    "    ws = f['mantid_workspace_1']\n",
    "    ew = ws['event_workspace']\n",
    "    ew['axis1'][:] = [-1, 16667.]\n",
    "    # del ew['axis2']\n",
    "    ew['axis2'] = np.arange(1., ntotpixels)\n",
    "    attrs = ew['axis2'].attrs\n",
    "    attrs['caption'] = 'Spectrum'\n",
    "    attrs['label'] = ''\n",
    "    attrs['units'] = 'spectraNumber'\n",
    "\n",
    "    saved_attrs = dict(ew['indices'].attrs)\n",
    "    # print saved_attrs\n",
    "    saved = ew['indices'][:].copy()\n",
    "    # print saved\n",
    "    # print saved.dtype\n",
    "    # print ew['indices'].shape\n",
    "    del ew['indices']\n",
    "\n",
    "    new_indices = np.zeros(ntotpixels+1, dtype='int64')\n",
    "    new_indices[:saved.size] = saved[:new_indices.size]\n",
    "    ew['indices'] = new_indices\n",
    "    attrs = ew['indices'].attrs\n",
    "    for k, v in saved_attrs.items():\n",
    "        attrs[k]=v\n",
    "\n",
    "    f.close()"
   ]
  },
  {
   "cell_type": "code",
   "execution_count": 24,
   "metadata": {
    "collapsed": true
   },
   "outputs": [],
   "source": [
    "# !cp step1.nxs step2.nxs"
   ]
  },
  {
   "cell_type": "code",
   "execution_count": 25,
   "metadata": {
    "collapsed": true
   },
   "outputs": [],
   "source": [
    "from mantid import simpleapi as msa\n",
    "ws = msa.Load(\"step1.nxs\")"
   ]
  },
  {
   "cell_type": "code",
   "execution_count": 27,
   "metadata": {
    "collapsed": true
   },
   "outputs": [],
   "source": [
    "cp mantid.xml MCVINETEST_Definition.xml"
   ]
  },
  {
   "cell_type": "code",
   "execution_count": 29,
   "metadata": {},
   "outputs": [
    {
     "data": {
      "text/plain": [
       "array([-1], dtype=int32)"
      ]
     },
     "execution_count": 29,
     "metadata": {},
     "output_type": "execute_result"
    }
   ],
   "source": [
    "msa.LoadInstrument(Workspace=ws, Filename='./MCVINETEST_Definition.xml', RewriteSpectraMap=True)"
   ]
  },
  {
   "cell_type": "code",
   "execution_count": 30,
   "metadata": {
    "collapsed": true
   },
   "outputs": [],
   "source": [
    "dettable = msa.PreprocessDetectorsToMD(ws)"
   ]
  },
  {
   "cell_type": "code",
   "execution_count": 31,
   "metadata": {
    "collapsed": true
   },
   "outputs": [],
   "source": [
    "msa.SaveNexusProcessed(ws, Filename=\"step2.nxs\")"
   ]
  },
  {
   "cell_type": "code",
   "execution_count": 32,
   "metadata": {
    "collapsed": true
   },
   "outputs": [],
   "source": [
    "!cp step2.nxs step3.nxs"
   ]
  },
  {
   "cell_type": "code",
   "execution_count": 33,
   "metadata": {
    "collapsed": true
   },
   "outputs": [],
   "source": [
    "with h5py.File('step3.nxs') as f:\n",
    "    ew = f['mantid_workspace_1']['event_workspace']\n",
    "    del ew['indices'], ew['pulsetime'], ew['tof']\n",
    "    f.close()"
   ]
  },
  {
   "cell_type": "markdown",
   "metadata": {},
   "source": [
    "# Reduction scripts"
   ]
  },
  {
   "cell_type": "code",
   "execution_count": 79,
   "metadata": {},
   "outputs": [
    {
     "name": "stdout",
     "output_type": "stream",
     "text": [
      "Events2Nxs.py              Events2Nxs.py.8tube_pack  Neutrons2Events.py~\r\n",
      "Events2Nxs.py~             Events2Nxs.pyc            Neutrons2Events.pyc\r\n",
      "Events2Nxs.py.16tube_pack  Neutrons2Events.py\r\n"
     ]
    }
   ],
   "source": [
    "ls scripts/"
   ]
  },
  {
   "cell_type": "code",
   "execution_count": 36,
   "metadata": {},
   "outputs": [
    {
     "name": "stdout",
     "output_type": "stream",
     "text": [
      "/SNS/users/lj7/simulations/mantid2mcvine_instrument_conversion/explore\n"
     ]
    }
   ],
   "source": [
    "cd {workdir}"
   ]
  },
  {
   "cell_type": "code",
   "execution_count": 38,
   "metadata": {
    "collapsed": true
   },
   "outputs": [],
   "source": [
    "sys.path.insert(0, os.path.abspath('./scripts'))"
   ]
  },
  {
   "cell_type": "markdown",
   "metadata": {
    "collapsed": true
   },
   "source": [
    "# Powder cones"
   ]
  },
  {
   "cell_type": "code",
   "execution_count": 76,
   "metadata": {},
   "outputs": [
    {
     "data": {
      "text/plain": [
       "u'/SNS/users/lj7/simulations/mantid2mcvine_instrument_conversion/explore'"
      ]
     },
     "execution_count": 76,
     "metadata": {},
     "output_type": "execute_result"
    }
   ],
   "source": [
    "pwd"
   ]
  },
  {
   "cell_type": "code",
   "execution_count": 6,
   "metadata": {},
   "outputs": [
    {
     "name": "stdout",
     "output_type": "stream",
     "text": [
      "/SNS/users/lj7/simulations/mantid2mcvine_instrument_conversion/explore/powder-cones\n"
     ]
    }
   ],
   "source": [
    "powder_workdir = \"/SNS/users/lj7/simulations/mantid2mcvine_instrument_conversion/explore/powder-cones\"\n",
    "!mkdir -p {powder_workdir}\n",
    "%cd {powder_workdir}"
   ]
  },
  {
   "cell_type": "code",
   "execution_count": 8,
   "metadata": {
    "collapsed": true
   },
   "outputs": [],
   "source": [
    "!mcvine workflow powder --instrument=ARCS --sample=V --workdir=mysim"
   ]
  },
  {
   "cell_type": "markdown",
   "metadata": {},
   "source": [
    "## Sim Beam"
   ]
  },
  {
   "cell_type": "code",
   "execution_count": 13,
   "metadata": {},
   "outputs": [
    {
     "name": "stdout",
     "output_type": "stream",
     "text": [
      "/SNS/users/lj7/simulations/mantid2mcvine_instrument_conversion/explore/powder-cones/mysim/beam\n"
     ]
    }
   ],
   "source": [
    "cd {powder_workdir}/mysim/beam"
   ]
  },
  {
   "cell_type": "code",
   "execution_count": 26,
   "metadata": {},
   "outputs": [
    {
     "name": "stdout",
     "output_type": "stream",
     "text": [
      "Overwriting run-beam.sh\n"
     ]
    }
   ],
   "source": [
    "%%file run-beam.sh\n",
    "#!/usr/bin/env bash\n",
    "\n",
    "mcvine instruments arcs beam -E=70 --ncount=1e7 --nodes=20"
   ]
  },
  {
   "cell_type": "code",
   "execution_count": 31,
   "metadata": {
    "collapsed": true
   },
   "outputs": [],
   "source": [
    "%%script bash --out beam_out --err beam_err\n",
    "time ./run-beam.sh"
   ]
  },
  {
   "cell_type": "code",
   "execution_count": 58,
   "metadata": {
    "collapsed": true
   },
   "outputs": [],
   "source": [
    "#print beam_out"
   ]
  },
  {
   "cell_type": "code",
   "execution_count": 64,
   "metadata": {},
   "outputs": [
    {
     "data": {
      "text/plain": [
       "[<matplotlib.lines.Line2D at 0x7fcf1b346650>]"
      ]
     },
     "execution_count": 64,
     "metadata": {},
     "output_type": "execute_result"
    },
    {
     "data": {
      "image/png": "[encoded data removed]",
      "text/plain": [
       "<matplotlib.figure.Figure at 0x7fcf2fd37350>"
      ]
     },
     "metadata": {},
     "output_type": "display_data"
    }
   ],
   "source": [
    "# plot I(E) spectrum\n",
    "ie = hh.load(\"out/ienergy.h5\")\n",
    "plt.plot(ie.energy, ie.I)"
   ]
  },
  {
   "cell_type": "markdown",
   "metadata": {
    "collapsed": true
   },
   "source": [
    "## Scattering sim"
   ]
  },
  {
   "cell_type": "code",
   "execution_count": 65,
   "metadata": {},
   "outputs": [
    {
     "name": "stdout",
     "output_type": "stream",
     "text": [
      "/SNS/users/lj7/simulations/mantid2mcvine_instrument_conversion/explore/powder-cones/mysim\n"
     ]
    }
   ],
   "source": [
    "cd {powder_workdir}/mysim"
   ]
  },
  {
   "cell_type": "markdown",
   "metadata": {},
   "source": [
    "### Change sample kernel"
   ]
  },
  {
   "cell_type": "code",
   "execution_count": 66,
   "metadata": {},
   "outputs": [
    {
     "name": "stdout",
     "output_type": "stream",
     "text": [
      "Overwriting sampleassembly/V-scatterer.xml\n"
     ]
    }
   ],
   "source": [
    "%%file sampleassembly/V-scatterer.xml\n",
    "<?xml version=\"1.0\"?>\n",
    "\n",
    "<!DOCTYPE scatterer>\n",
    "\n",
    "<!-- mcweights: monte-carlo weights for 3 possible processes:\n",
    "     absorption, scattering, transmission -->\n",
    "<homogeneous_scatterer mcweights=\"0, 1, 0.1\">\n",
    "\n",
    "  <KernelContainer average=\"yes\">\n",
    "\n",
    "    <Phonon_IncoherentElastic_Kernel dw_core='0.00701434948808*angstrom**2'>\n",
    "    </Phonon_IncoherentElastic_Kernel>\n",
    "\n",
    "    <ConstantQEKernel momentum-transfer=\"4/angstrom\" energy-transfer=\"10*meV\"/>\n",
    "\n",
    "    <ConstantQEKernel momentum-transfer=\"7/angstrom\" energy-transfer=\"20*meV\"/>\n",
    "\n",
    "    <ConstantQEKernel momentum-transfer=\"10/angstrom\" energy-transfer=\"10*meV\"/>\n",
    "\n",
    "    </KernelContainer>\n",
    "</homogeneous_scatterer>"
   ]
  },
  {
   "cell_type": "markdown",
   "metadata": {},
   "source": [
    "### Scattering script"
   ]
  },
  {
   "cell_type": "code",
   "execution_count": 68,
   "metadata": {},
   "outputs": [
    {
     "name": "stdout",
     "output_type": "stream",
     "text": [
      "Overwriting scatter\n"
     ]
    }
   ],
   "source": [
    "%%file scatter\n",
    "#!/usr/bin/env bash\n",
    "\n",
    "LAUNCHER=`python -c \"from mcni.pyre_support.MpiApplication import mpi_launcher_choice as l; print l\"`\n",
    "rm -rf out && ./sss --ncount=1e7 --multiple-scattering=off --$LAUNCHER.nodes=10 --buffer_size=100000"
   ]
  },
  {
   "cell_type": "code",
   "execution_count": 69,
   "metadata": {
    "collapsed": true
   },
   "outputs": [],
   "source": [
    "!chmod +x scatter sss reduce2iqe create-nxs"
   ]
  },
  {
   "cell_type": "markdown",
   "metadata": {},
   "source": [
    "### Simulate"
   ]
  },
  {
   "cell_type": "code",
   "execution_count": 70,
   "metadata": {},
   "outputs": [
    {
     "name": "stdout",
     "output_type": "stream",
     "text": [
      "Starting job # 0 in a separate thread.\n"
     ]
    }
   ],
   "source": [
    "%%script --bg bash\n",
    "time ./scatter &> log.scatter"
   ]
  },
  {
   "cell_type": "code",
   "execution_count": 73,
   "metadata": {},
   "outputs": [
    {
     "name": "stdout",
     "output_type": "stream",
     "text": [
      "-rw-r--r-- 1 lj7 users 800001100 Jul  3 20:41 out/scattered-neutrons\r\n"
     ]
    }
   ],
   "source": [
    "ls -lt out/scattered-neutrons"
   ]
  },
  {
   "cell_type": "markdown",
   "metadata": {},
   "source": [
    "## Create NeXus file"
   ]
  },
  {
   "cell_type": "code",
   "execution_count": 41,
   "metadata": {},
   "outputs": [
    {
     "name": "stdout",
     "output_type": "stream",
     "text": [
      "/SNS/users/lj7/simulations/mantid2mcvine_instrument_conversion/explore/powder-cones/mysim\n"
     ]
    }
   ],
   "source": [
    "%cd {powder_workdir}/mysim"
   ]
  },
  {
   "cell_type": "code",
   "execution_count": 82,
   "metadata": {
    "collapsed": true
   },
   "outputs": [],
   "source": [
    "import Neutrons2Events"
   ]
  },
  {
   "cell_type": "code",
   "execution_count": 84,
   "metadata": {},
   "outputs": [
    {
     "data": {
      "text/plain": [
       "u'/SNS/users/lj7/simulations/mantid2mcvine_instrument_conversion/explore'"
      ]
     },
     "execution_count": 84,
     "metadata": {},
     "output_type": "execute_result"
    }
   ],
   "source": [
    "pwd"
   ]
  },
  {
   "cell_type": "code",
   "execution_count": 88,
   "metadata": {},
   "outputs": [
    {
     "name": "stdout",
     "output_type": "stream",
     "text": [
      "* executing python sd --source=NeutronFromStorage --mpirun.nodes=10 --source.path=/SNS/users/lj7/simulations/mantid2mcvine_instrument_conversion/explore/powder-cones/mysim/out/scattered-neutrons --output-dir=out --detsys.tofparams=0,1.,1e-07 --detsys.instrumentxml=/SNS/users/lj7/simulations/mantid2mcvine_instrument_conversion/explore/mcvine.xml --detsys=DetectorSystemFromXml --ncount=10000000 --detsys.eventsdat=events.dat... \n"
     ]
    }
   ],
   "source": [
    "n2e = Neutrons2Events.Neutrons2Events(\n",
    "    instrument_xml=\"/SNS/users/lj7/simulations/mantid2mcvine_instrument_conversion/explore/mcvine.xml\",\n",
    "    tofbinsize=0.1)\n",
    "n2e.run('./out/scattered-neutrons', 'n2e', 10)"
   ]
  },
  {
   "cell_type": "code",
   "execution_count": 92,
   "metadata": {},
   "outputs": [
    {
     "name": "stdout",
     "output_type": "stream",
     "text": [
      "-rw-r--r-- 1 lj7 users 14010800 Jul  3 22:17 n2e/out/events.dat\r\n"
     ]
    }
   ],
   "source": [
    "ls -lt n2e/out/events.dat"
   ]
  },
  {
   "cell_type": "code",
   "execution_count": 39,
   "metadata": {},
   "outputs": [
    {
     "data": {
      "text/plain": [
       "<module 'Events2Nxs' from '/SNS/users/lj7/simulations/mantid2mcvine_instrument_conversion/explore/scripts/Events2Nxs.pyc'>"
      ]
     },
     "execution_count": 39,
     "metadata": {},
     "output_type": "execute_result"
    }
   ],
   "source": [
    "import Events2Nxs\n",
    "reload(Events2Nxs)"
   ]
  },
  {
   "cell_type": "code",
   "execution_count": 42,
   "metadata": {},
   "outputs": [
    {
     "name": "stdout",
     "output_type": "stream",
     "text": [
      "Converting n2e/out/events.dat to sim.nxs\n"
     ]
    }
   ],
   "source": [
    "e2nxs = Events2Nxs.Event2Nxs(\n",
    "    nbanks=1, npixelspertube=128, ntubesperpack=8, nmonitors=1, \n",
    "    nxs_template='/SNS/users/lj7/simulations/mantid2mcvine_instrument_conversion/explore/step3.nxs')\n",
    "\n",
    "e2nxs.run(eventfile='n2e/out/events.dat', nxsfile='sim.nxs', tofbinsize=0.1)"
   ]
  },
  {
   "cell_type": "markdown",
   "metadata": {},
   "source": [
    "## Reduction"
   ]
  },
  {
   "cell_type": "code",
   "execution_count": 5,
   "metadata": {},
   "outputs": [
    {
     "name": "stderr",
     "output_type": "stream",
     "text": [
      "/home/lj7/miniconda2/envs/dev-mcvine/lib/python2.7/site-packages/mantid/kernel/__init__.py:14: RuntimeWarning: to-Python converter for std::vector<int, std::allocator<int> > already registered; second conversion method ignored.\n",
      "  from ._kernel import *\n",
      "/home/lj7/miniconda2/envs/dev-mcvine/lib/python2.7/site-packages/mantid/kernel/__init__.py:14: RuntimeWarning: to-Python converter for std::vector<double, std::allocator<double> > already registered; second conversion method ignored.\n",
      "  from ._kernel import *\n"
     ]
    },
    {
     "data": {
      "text/plain": [
       "<module 'mantid.simpleapi' from '/home/lj7/miniconda2/envs/dev-mcvine/lib/python2.7/site-packages/mantid/simpleapi.pyc'>"
      ]
     },
     "execution_count": 5,
     "metadata": {},
     "output_type": "execute_result"
    }
   ],
   "source": [
    "from mantid import simpleapi as msa\n",
    "reload(msa)"
   ]
  },
  {
   "cell_type": "code",
   "execution_count": 10,
   "metadata": {},
   "outputs": [
    {
     "name": "stdout",
     "output_type": "stream",
     "text": [
      "/SNS/users/lj7/simulations/mantid2mcvine_instrument_conversion/explore/powder-cones/mysim\n"
     ]
    }
   ],
   "source": [
    "cd {powder_workdir}/mysim"
   ]
  },
  {
   "cell_type": "code",
   "execution_count": 11,
   "metadata": {
    "collapsed": true
   },
   "outputs": [],
   "source": [
    "ws = msa.Load('sim.nxs')"
   ]
  },
  {
   "cell_type": "code",
   "execution_count": 12,
   "metadata": {
    "collapsed": true
   },
   "outputs": [],
   "source": [
    "out = msa.DgsReduction(\n",
    "    SampleInputWorkspace=ws, \n",
    "    IncidentEnergyGuess=70., UseIncidentEnergyGuess=1,\n",
    "    TimeZeroGuess=20)"
   ]
  },
  {
   "cell_type": "code",
   "execution_count": 17,
   "metadata": {},
   "outputs": [
    {
     "data": {
      "text/plain": [
       "RebinnedOutput\n",
       "Title: \n",
       "Histograms: 120\n",
       "Bins: 149\n",
       "Histogram\n",
       "X axis: Energy transfer / meV\n",
       "Y axis: Intensity\n",
       "Distribution: True\n",
       "Instrument: MCVINETEST (2017-May-15 to 2020-Jul-13)Instrument from: sim.nxs\n",
       "\n",
       "Run start: not available\n",
       "Run end:  not available"
      ]
     },
     "execution_count": 17,
     "metadata": {},
     "output_type": "execute_result"
    }
   ],
   "source": [
    "msa.SofQW3(\n",
    "    InputWorkspace='out',\n",
    "    OutputWorkspace='iqw',\n",
    "    QAxisBinning=\"0,0.1,12\",\n",
    "    EMode='Direct',\n",
    "    )"
   ]
  },
  {
   "cell_type": "code",
   "execution_count": 18,
   "metadata": {
    "collapsed": true
   },
   "outputs": [],
   "source": [
    "msa.SaveNexus(\n",
    "    InputWorkspace='iqw',\n",
    "    Filename = 'iqe.nxs',\n",
    "    Title = 'iqw',\n",
    "    )"
   ]
  },
  {
   "cell_type": "code",
   "execution_count": 19,
   "metadata": {
    "collapsed": true
   },
   "outputs": [],
   "source": [
    "!mcvine mantid extract_iqe iqe.nxs iqe.h5"
   ]
  },
  {
   "cell_type": "code",
   "execution_count": 23,
   "metadata": {},
   "outputs": [
    {
     "name": "stdout",
     "output_type": "stream",
     "text": [
      "plot z in (0, 0.003)\n"
     ]
    },
    {
     "data": {
      "image/png": "[encoded data removed]",
      "text/plain": [
       "<matplotlib.figure.Figure at 0x7f1627226cd0>"
      ]
     },
     "metadata": {},
     "output_type": "display_data"
    }
   ],
   "source": [
    "iqe = hh.load(\"iqe.h5\").transpose()\n",
    "H.plot(iqe, min=0, max=.003)"
   ]
  },
  {
   "cell_type": "code",
   "execution_count": null,
   "metadata": {
    "collapsed": true
   },
   "outputs": [],
   "source": []
  }
 ],
 "metadata": {
  "kernelspec": {
   "display_name": "dev-mcvine",
   "language": "python",
   "name": "dev-mcvine"
  },
  "language_info": {
   "codemirror_mode": {
    "name": "ipython",
    "version": 2
   },
   "file_extension": ".py",
   "mimetype": "text/x-python",
   "name": "python",
   "nbconvert_exporter": "python",
   "pygments_lexer": "ipython2",
   "version": "2.7.12"
  }
 },
 "nbformat": 4,
 "nbformat_minor": 2
}
